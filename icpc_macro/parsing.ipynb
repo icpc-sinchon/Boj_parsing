{
 "cells": [
  {
   "cell_type": "code",
   "execution_count": 31,
   "id": "9118e92ad04c3252",
   "metadata": {
    "ExecuteTime": {
     "end_time": "2024-01-20T07:46:18.794666Z",
     "start_time": "2024-01-20T07:46:18.790315Z"
    },
    "collapsed": false
   },
   "outputs": [],
   "source": [
    "# config\n",
    "\n",
    "csv_name = \"[2024 Winter ICPC Sinchon Algorithm Camp 참가자 모집 안내] - sheet1.csv\"\n",
    "class_quest = \"수강하고자 하는 수업을 선택해 주세요.\"\n",
    "class_novice = \"Novice (초급)\"\n",
    "class_advance = \"Advanced (중급)\" \n",
    "boj_quest = \"BOJ Handle (아이디)\""
   ]
  },
  {
   "cell_type": "code",
   "execution_count": null,
   "id": "initial_id",
   "metadata": {
    "ExecuteTime": {
     "end_time": "2024-01-20T07:46:18.811183Z",
     "start_time": "2024-01-20T07:46:18.794689Z"
    },
    "collapsed": true
   },
   "outputs": [],
   "source": [
    "import pandas as pd\n",
    "\n",
    "df = pd.read_csv(csv_name)\n",
    "df"
   ]
  },
  {
   "cell_type": "code",
   "execution_count": 33,
   "id": "6bcd1a87115ea248",
   "metadata": {
    "ExecuteTime": {
     "end_time": "2024-01-20T07:46:18.811443Z",
     "start_time": "2024-01-20T07:46:18.807951Z"
    },
    "collapsed": false
   },
   "outputs": [],
   "source": [
    "def classify_class(df, class_name):\n",
    "    return df[df[class_quest] == class_name]\n",
    "\n",
    "def get_handle_only(df):\n",
    "    return list(df[boj_quest])"
   ]
  },
  {
   "cell_type": "code",
   "execution_count": null,
   "id": "a5fa7af32f5eb413",
   "metadata": {
    "ExecuteTime": {
     "end_time": "2024-01-20T07:46:18.822408Z",
     "start_time": "2024-01-20T07:46:18.812153Z"
    },
    "collapsed": false
   },
   "outputs": [],
   "source": [
    "# 초급\n",
    "arr_novice = classify_class(df, class_novice)\n",
    "arr_novice = get_handle_only(arr_novice)\n",
    "\n",
    "# 이상치 제거\n",
    "arr_novice.remove(\"syj91105@gmail.com\")\n",
    "\n",
    "print(arr_novice)\n",
    "print(len(arr_novice))"
   ]
  },
  {
   "cell_type": "code",
   "execution_count": null,
   "id": "e6be1a5d5e82a5ad",
   "metadata": {
    "ExecuteTime": {
     "end_time": "2024-01-20T07:46:18.822701Z",
     "start_time": "2024-01-20T07:46:18.815132Z"
    },
    "collapsed": false
   },
   "outputs": [],
   "source": [
    "# 중급\n",
    "arr_advanced = classify_class(df, class_advance)\n",
    "arr_advanced = get_handle_only(arr_advanced)\n",
    "print(arr_advanced)\n",
    "print(len(arr_advanced))"
   ]
  },
  {
   "cell_type": "markdown",
   "id": "3f3c024b9b1f6d68",
   "metadata": {
    "collapsed": false
   },
   "source": [
    "아래 내용을 브라우저 콘솔에서 돌리기"
   ]
  },
  {
   "cell_type": "markdown",
   "id": "af66590d2e3367be",
   "metadata": {
    "collapsed": false
   },
   "source": [
    "const array = \"입력할 리스트 입력\"\n",
    "array.forEach(function (item, index) {\n",
    "    document.querySelector(\"#add-member-form > div > div > input\").value = item\n",
    "    $(\"#add-member\").trigger(\"click\");\n",
    "});"
   ]
  }
 ],
 "metadata": {
  "kernelspec": {
   "display_name": "Python 3",
   "language": "python",
   "name": "python3"
  },
  "language_info": {
   "codemirror_mode": {
    "name": "ipython",
    "version": 2
   },
   "file_extension": ".py",
   "mimetype": "text/x-python",
   "name": "python",
   "nbconvert_exporter": "python",
   "pygments_lexer": "ipython2",
   "version": "2.7.6"
  }
 },
 "nbformat": 4,
 "nbformat_minor": 5
}
