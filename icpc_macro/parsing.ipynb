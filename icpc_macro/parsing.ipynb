{
 "cells": [
  {
   "cell_type": "code",
   "outputs": [],
   "source": [
    "# config\n",
    "\n",
    "csv_name = \"[2024 Winter ICPC Sinchon Algorithm Camp 참가자 모집 안내] - sheet1.csv\"\n",
    "class_quest = \"수강하고자 하는 수업을 선택해 주세요.\"\n",
    "class_novice = \"Novice (초급)\"\n",
    "class_advance = \"Advanced (중급)\" \n",
    "boj_quest = \"BOJ Handle (아이디)\""
   ],
   "metadata": {
    "collapsed": false,
    "ExecuteTime": {
     "end_time": "2024-01-20T07:46:18.794666Z",
     "start_time": "2024-01-20T07:46:18.790315Z"
    }
   },
   "id": "9118e92ad04c3252",
   "execution_count": 31
  },
  {
   "cell_type": "code",
   "execution_count": 32,
   "id": "initial_id",
   "metadata": {
    "collapsed": true,
    "ExecuteTime": {
     "end_time": "2024-01-20T07:46:18.811183Z",
     "start_time": "2024-01-20T07:46:18.794689Z"
    }
   },
   "outputs": [
    {
     "data": {
      "text/plain": "                      타임스탬프                  이메일 주소 캠프 참가비 발생 공지  \\\n0     2024. 1. 5 오후 6:33:51         l0915@naver.com     확인하였습니다.   \n1     2024. 1. 5 오후 6:47:38  lalavender03@gmail.com     확인하였습니다.   \n2     2024. 1. 5 오후 9:33:33      somi5488@naver.com     확인하였습니다.   \n3     2024. 1. 5 오후 9:36:43  celina03240@ewhain.net     확인하였습니다.   \n4     2024. 1. 5 오후 9:57:28    kjm375719@ewhain.net     확인하였습니다.   \n..                      ...                     ...          ...   \n86   2024. 1. 20 오전 9:17:19    dragonhope@naver.com     확인하였습니다.   \n87  2024. 1. 20 오전 11:54:31    mmm7407@yonsei.ac.kr     확인하였습니다.   \n88  2024. 1. 20 오후 12:02:07   fbdxodla@yonsei.ac.kr     확인하였습니다.   \n89  2024. 1. 20 오후 12:39:46    amlily9011@gmail.com     확인하였습니다.   \n90   2024. 1. 20 오후 4:00:23  yujinc726@yonsei.ac.kr     확인하였습니다.   \n\n   회비 납부 완료 후 폼 제출 바랍니다. 강의는 기본적으로 C++로 진행됩니다.               이름     소속학교  \\\n0            납부 완료하였습니다.              확인하였습니다.              이윤서  이화여자대학교   \n1            납부 완료하였습니다.              확인하였습니다.              변아연  이화여자대학교   \n2            납부 완료하였습니다.              확인하였습니다.              김은솜  이화여자대학교   \n3            납부 완료하였습니다.              확인하였습니다.  신촌캠프장정은체기부를위해등장  이화여자대학교   \n4            납부 완료하였습니다.              확인하였습니다.              김정민  이화여자대학교   \n..                   ...                   ...              ...      ...   \n86           납부 완료하였습니다.              확인하였습니다.              김도은    서강대학교   \n87           납부 완료하였습니다.              확인하였습니다.              김지호    연세대학교   \n88           납부 완료하였습니다.              확인하였습니다.              임태륭    연세대학교   \n89           납부 완료하였습니다.              확인하였습니다.              서채연    홍익대학교   \n90           납부 완료하였습니다.              확인하였습니다.              차유진    연세대학교   \n\n   학번 (두 자리가 아닌 풀로 작성해 주세요.) BOJ Handle (아이디) 수강하고자 하는 수업을 선택해 주세요. 확인했습니다.  \\\n0                    2271049        dldbstj22           Novice (초급)       네   \n1                    2271032         bay00525           Novice (초급)       네   \n2                    2271018         somi5488           Novice (초급)       네   \n3                    2271056        celina324         Advanced (중급)     NaN   \n4                    2271020          kjm3757           Novice (초급)       네   \n..                       ...              ...                   ...     ...   \n86                  20211168        mn_gldmny           Novice (초급)       네   \n87                2020143528         wlgh7407         Advanced (중급)     NaN   \n88                2020147577         fbdxodla           Novice (초급)       네   \n89                   C311079           yeonee           Novice (초급)       네   \n90                2022136017        yujinc726           Novice (초급)       네   \n\n   확인했습니다..1                                    참가 방법 선택 (재확인용)  \\\n0        NaN                                     3만원 납부 + 환급 없음   \n1        NaN                                     3만원 납부 + 환급 없음   \n2        NaN                                     3만원 납부 + 환급 없음   \n3          네  6만원 납부 + 조건 만족시 환급(9회 이상 출석 시 만원, 필수문제 모두 해결시 ...   \n4        NaN  6만원 납부 + 조건 만족시 환급(9회 이상 출석 시 만원, 필수문제 모두 해결시 ...   \n..       ...                                                ...   \n86       NaN                                     3만원 납부 + 환급 없음   \n87         네                                     3만원 납부 + 환급 없음   \n88       NaN  6만원 납부 + 조건 만족시 환급(9회 이상 출석 시 만원, 필수문제를 푼 비율로 ...   \n89       NaN                                     3만원 납부 + 환급 없음   \n90       NaN  6만원 납부 + 조건 만족시 환급(9회 이상 출석 시 만원, 필수문제를 푼 비율로 ...   \n\n   전화번호를 입력해주세요.\\n해당 전화번호로 디스코드 초대링크가 보내질 예정입니다.   \\\n0                                   010-4666-2597   \n1                                   010-8471-0377   \n2                                   010-8109-5488   \n3                                   하하 난 이미 들어가잇지   \n4                                   010-4588-6988   \n..                                            ...   \n86                                  010-9257-2671   \n87                                  010-4485-5661   \n88                                  010-3364-6468   \n89                                  010-4098-3077   \n90                                  010-8835-4921   \n\n   환불 계좌를 적어주세요.  (형식 : 은행 이름 / 계좌번호) [수요조사] 대면으로 캠프가 이루어진다면 참여하고 싶으신가요?  \\\n0              농협은행 3021054778801 이윤서                                  네   \n1              카카오뱅크 / 3333203682578                                   네   \n2                 3333220367065 카카오뱅크                                  네   \n3            출석률 0 문제풀기 0을 찍을거라서 필요없다                                  네   \n4               카카오뱅크 / 3333220957491                                  네   \n..                                ...                                ...   \n86              국민은행 / 93770200785843                                아니오   \n87                신한은행 / 110471552615                                  네   \n88              국민 / 943202-00-632647                                  네   \n89                 농협 / 3521074781373                                  네   \n90            국민은행 / 937702-00-034174                                  네   \n\n   Unnamed: 16 Unnamed: 17  \n0          NaN         NaN  \n1          NaN         NaN  \n2          NaN         NaN  \n3          NaN         NaN  \n4          NaN         NaN  \n..         ...         ...  \n86         NaN         NaN  \n87         NaN         NaN  \n88         NaN         NaN  \n89         NaN         NaN  \n90         NaN         NaN  \n\n[91 rows x 18 columns]",
      "text/html": "<div>\n<style scoped>\n    .dataframe tbody tr th:only-of-type {\n        vertical-align: middle;\n    }\n\n    .dataframe tbody tr th {\n        vertical-align: top;\n    }\n\n    .dataframe thead th {\n        text-align: right;\n    }\n</style>\n<table border=\"1\" class=\"dataframe\">\n  <thead>\n    <tr style=\"text-align: right;\">\n      <th></th>\n      <th>타임스탬프</th>\n      <th>이메일 주소</th>\n      <th>캠프 참가비 발생 공지</th>\n      <th>회비 납부 완료 후 폼 제출 바랍니다.</th>\n      <th>강의는 기본적으로 C++로 진행됩니다.</th>\n      <th>이름</th>\n      <th>소속학교</th>\n      <th>학번 (두 자리가 아닌 풀로 작성해 주세요.)</th>\n      <th>BOJ Handle (아이디)</th>\n      <th>수강하고자 하는 수업을 선택해 주세요.</th>\n      <th>확인했습니다.</th>\n      <th>확인했습니다..1</th>\n      <th>참가 방법 선택 (재확인용)</th>\n      <th>전화번호를 입력해주세요.\\n해당 전화번호로 디스코드 초대링크가 보내질 예정입니다.</th>\n      <th>환불 계좌를 적어주세요.  (형식 : 은행 이름 / 계좌번호)</th>\n      <th>[수요조사] 대면으로 캠프가 이루어진다면 참여하고 싶으신가요?</th>\n      <th>Unnamed: 16</th>\n      <th>Unnamed: 17</th>\n    </tr>\n  </thead>\n  <tbody>\n    <tr>\n      <th>0</th>\n      <td>2024. 1. 5 오후 6:33:51</td>\n      <td>l0915@naver.com</td>\n      <td>확인하였습니다.</td>\n      <td>납부 완료하였습니다.</td>\n      <td>확인하였습니다.</td>\n      <td>이윤서</td>\n      <td>이화여자대학교</td>\n      <td>2271049</td>\n      <td>dldbstj22</td>\n      <td>Novice (초급)</td>\n      <td>네</td>\n      <td>NaN</td>\n      <td>3만원 납부 + 환급 없음</td>\n      <td>010-4666-2597</td>\n      <td>농협은행 3021054778801 이윤서</td>\n      <td>네</td>\n      <td>NaN</td>\n      <td>NaN</td>\n    </tr>\n    <tr>\n      <th>1</th>\n      <td>2024. 1. 5 오후 6:47:38</td>\n      <td>lalavender03@gmail.com</td>\n      <td>확인하였습니다.</td>\n      <td>납부 완료하였습니다.</td>\n      <td>확인하였습니다.</td>\n      <td>변아연</td>\n      <td>이화여자대학교</td>\n      <td>2271032</td>\n      <td>bay00525</td>\n      <td>Novice (초급)</td>\n      <td>네</td>\n      <td>NaN</td>\n      <td>3만원 납부 + 환급 없음</td>\n      <td>010-8471-0377</td>\n      <td>카카오뱅크 / 3333203682578</td>\n      <td>네</td>\n      <td>NaN</td>\n      <td>NaN</td>\n    </tr>\n    <tr>\n      <th>2</th>\n      <td>2024. 1. 5 오후 9:33:33</td>\n      <td>somi5488@naver.com</td>\n      <td>확인하였습니다.</td>\n      <td>납부 완료하였습니다.</td>\n      <td>확인하였습니다.</td>\n      <td>김은솜</td>\n      <td>이화여자대학교</td>\n      <td>2271018</td>\n      <td>somi5488</td>\n      <td>Novice (초급)</td>\n      <td>네</td>\n      <td>NaN</td>\n      <td>3만원 납부 + 환급 없음</td>\n      <td>010-8109-5488</td>\n      <td>3333220367065 카카오뱅크</td>\n      <td>네</td>\n      <td>NaN</td>\n      <td>NaN</td>\n    </tr>\n    <tr>\n      <th>3</th>\n      <td>2024. 1. 5 오후 9:36:43</td>\n      <td>celina03240@ewhain.net</td>\n      <td>확인하였습니다.</td>\n      <td>납부 완료하였습니다.</td>\n      <td>확인하였습니다.</td>\n      <td>신촌캠프장정은체기부를위해등장</td>\n      <td>이화여자대학교</td>\n      <td>2271056</td>\n      <td>celina324</td>\n      <td>Advanced (중급)</td>\n      <td>NaN</td>\n      <td>네</td>\n      <td>6만원 납부 + 조건 만족시 환급(9회 이상 출석 시 만원, 필수문제 모두 해결시 ...</td>\n      <td>하하 난 이미 들어가잇지</td>\n      <td>출석률 0 문제풀기 0을 찍을거라서 필요없다</td>\n      <td>네</td>\n      <td>NaN</td>\n      <td>NaN</td>\n    </tr>\n    <tr>\n      <th>4</th>\n      <td>2024. 1. 5 오후 9:57:28</td>\n      <td>kjm375719@ewhain.net</td>\n      <td>확인하였습니다.</td>\n      <td>납부 완료하였습니다.</td>\n      <td>확인하였습니다.</td>\n      <td>김정민</td>\n      <td>이화여자대학교</td>\n      <td>2271020</td>\n      <td>kjm3757</td>\n      <td>Novice (초급)</td>\n      <td>네</td>\n      <td>NaN</td>\n      <td>6만원 납부 + 조건 만족시 환급(9회 이상 출석 시 만원, 필수문제 모두 해결시 ...</td>\n      <td>010-4588-6988</td>\n      <td>카카오뱅크 / 3333220957491</td>\n      <td>네</td>\n      <td>NaN</td>\n      <td>NaN</td>\n    </tr>\n    <tr>\n      <th>...</th>\n      <td>...</td>\n      <td>...</td>\n      <td>...</td>\n      <td>...</td>\n      <td>...</td>\n      <td>...</td>\n      <td>...</td>\n      <td>...</td>\n      <td>...</td>\n      <td>...</td>\n      <td>...</td>\n      <td>...</td>\n      <td>...</td>\n      <td>...</td>\n      <td>...</td>\n      <td>...</td>\n      <td>...</td>\n      <td>...</td>\n    </tr>\n    <tr>\n      <th>86</th>\n      <td>2024. 1. 20 오전 9:17:19</td>\n      <td>dragonhope@naver.com</td>\n      <td>확인하였습니다.</td>\n      <td>납부 완료하였습니다.</td>\n      <td>확인하였습니다.</td>\n      <td>김도은</td>\n      <td>서강대학교</td>\n      <td>20211168</td>\n      <td>mn_gldmny</td>\n      <td>Novice (초급)</td>\n      <td>네</td>\n      <td>NaN</td>\n      <td>3만원 납부 + 환급 없음</td>\n      <td>010-9257-2671</td>\n      <td>국민은행 / 93770200785843</td>\n      <td>아니오</td>\n      <td>NaN</td>\n      <td>NaN</td>\n    </tr>\n    <tr>\n      <th>87</th>\n      <td>2024. 1. 20 오전 11:54:31</td>\n      <td>mmm7407@yonsei.ac.kr</td>\n      <td>확인하였습니다.</td>\n      <td>납부 완료하였습니다.</td>\n      <td>확인하였습니다.</td>\n      <td>김지호</td>\n      <td>연세대학교</td>\n      <td>2020143528</td>\n      <td>wlgh7407</td>\n      <td>Advanced (중급)</td>\n      <td>NaN</td>\n      <td>네</td>\n      <td>3만원 납부 + 환급 없음</td>\n      <td>010-4485-5661</td>\n      <td>신한은행 / 110471552615</td>\n      <td>네</td>\n      <td>NaN</td>\n      <td>NaN</td>\n    </tr>\n    <tr>\n      <th>88</th>\n      <td>2024. 1. 20 오후 12:02:07</td>\n      <td>fbdxodla@yonsei.ac.kr</td>\n      <td>확인하였습니다.</td>\n      <td>납부 완료하였습니다.</td>\n      <td>확인하였습니다.</td>\n      <td>임태륭</td>\n      <td>연세대학교</td>\n      <td>2020147577</td>\n      <td>fbdxodla</td>\n      <td>Novice (초급)</td>\n      <td>네</td>\n      <td>NaN</td>\n      <td>6만원 납부 + 조건 만족시 환급(9회 이상 출석 시 만원, 필수문제를 푼 비율로 ...</td>\n      <td>010-3364-6468</td>\n      <td>국민 / 943202-00-632647</td>\n      <td>네</td>\n      <td>NaN</td>\n      <td>NaN</td>\n    </tr>\n    <tr>\n      <th>89</th>\n      <td>2024. 1. 20 오후 12:39:46</td>\n      <td>amlily9011@gmail.com</td>\n      <td>확인하였습니다.</td>\n      <td>납부 완료하였습니다.</td>\n      <td>확인하였습니다.</td>\n      <td>서채연</td>\n      <td>홍익대학교</td>\n      <td>C311079</td>\n      <td>yeonee</td>\n      <td>Novice (초급)</td>\n      <td>네</td>\n      <td>NaN</td>\n      <td>3만원 납부 + 환급 없음</td>\n      <td>010-4098-3077</td>\n      <td>농협 / 3521074781373</td>\n      <td>네</td>\n      <td>NaN</td>\n      <td>NaN</td>\n    </tr>\n    <tr>\n      <th>90</th>\n      <td>2024. 1. 20 오후 4:00:23</td>\n      <td>yujinc726@yonsei.ac.kr</td>\n      <td>확인하였습니다.</td>\n      <td>납부 완료하였습니다.</td>\n      <td>확인하였습니다.</td>\n      <td>차유진</td>\n      <td>연세대학교</td>\n      <td>2022136017</td>\n      <td>yujinc726</td>\n      <td>Novice (초급)</td>\n      <td>네</td>\n      <td>NaN</td>\n      <td>6만원 납부 + 조건 만족시 환급(9회 이상 출석 시 만원, 필수문제를 푼 비율로 ...</td>\n      <td>010-8835-4921</td>\n      <td>국민은행 / 937702-00-034174</td>\n      <td>네</td>\n      <td>NaN</td>\n      <td>NaN</td>\n    </tr>\n  </tbody>\n</table>\n<p>91 rows × 18 columns</p>\n</div>"
     },
     "execution_count": 32,
     "metadata": {},
     "output_type": "execute_result"
    }
   ],
   "source": [
    "import pandas as pd\n",
    "\n",
    "df = pd.read_csv(csv_name)\n",
    "df"
   ]
  },
  {
   "cell_type": "code",
   "outputs": [],
   "source": [
    "def classify_class(df, class_name):\n",
    "    return df[df[class_quest] == class_name]\n",
    "\n",
    "def get_handle_only(df):\n",
    "    return list(df[boj_quest])"
   ],
   "metadata": {
    "collapsed": false,
    "ExecuteTime": {
     "end_time": "2024-01-20T07:46:18.811443Z",
     "start_time": "2024-01-20T07:46:18.807951Z"
    }
   },
   "id": "6bcd1a87115ea248",
   "execution_count": 33
  },
  {
   "cell_type": "code",
   "outputs": [
    {
     "name": "stdout",
     "output_type": "stream",
     "text": [
      "['dldbstj22', 'bay00525', 'somi5488', 'kjm3757', 'kjhgf9876', 'rnrmf', 'chloroform', 'jjwm10625', 'hundrich', 'pyj030510', 'inyd', 'X', 'bluebomin', 'sbdpigeon', 'smcwlove', 'joychoi0102', 'aki32578', 'yoona2023', 'kyh571021', 'keai7330', 'sparkyspy', 'dowon0630', 'uhmturks', 'tmddnjs4871', 'tmddus4671', 'kindsmell', 'heyitsme', 'ruvidu735', 'sayongja', 'sshsim1031', 'wys0530', 'dltkddus', 'dltkddus', 'shahnjr', 'JWpark901', 'kkangmen', '1196mm', 'bok', 'epiffany', 'jiheeharu', 'hsamy', 'yoongabin21', 'he74kkjcw', 'lhc464', 'yowon0425', 'angkmfirefoxygal', 'mermer', 'Sumin4lord', 'yoona2023', '5seongblll', 'munji0313', 'forlyby', 'eun1337', 'ilovedc10', 'anchaewon', 'lina1919', 'dahye1020', 'Lilac_21', '99angpaka', 'nsh0311', 'matthew16', 'fiveofplbe', 'mn_gldmny', 'fbdxodla', 'yeonee', 'yujinc726']\n",
      "66\n"
     ]
    }
   ],
   "source": [
    "# 초급\n",
    "arr_novice = classify_class(df, class_novice)\n",
    "arr_novice = get_handle_only(arr_novice)\n",
    "\n",
    "# 이상치 제거\n",
    "arr_novice.remove(\"syj91105@gmail.com\")\n",
    "\n",
    "print(arr_novice)\n",
    "print(len(arr_novice))"
   ],
   "metadata": {
    "collapsed": false,
    "ExecuteTime": {
     "end_time": "2024-01-20T07:46:18.822408Z",
     "start_time": "2024-01-20T07:46:18.812153Z"
    }
   },
   "id": "a5fa7af32f5eb413",
   "execution_count": 34
  },
  {
   "cell_type": "code",
   "outputs": [
    {
     "name": "stdout",
     "output_type": "stream",
     "text": [
      "['celina324', 'his0si', 'libe_bluxxbxry', 'stargirl03', 'hssong', 'camping123', 'her5613621', 'mirupio', 'synuo', 'boing_86', 'star_bits', 'playteddypicker', 'pat714', 'isl0827', 'dkdkdkslfkdl', 'woongvy', 'splanky0314', 'pearl55', 'mitvca09', 'pyc0208', 'hski0939', 'sth0119', 'yyytir777', 'wlgh7407']\n",
      "24\n"
     ]
    }
   ],
   "source": [
    "# 중급\n",
    "arr_advanced = classify_class(df, class_advance)\n",
    "arr_advanced = get_handle_only(arr_advanced)\n",
    "print(arr_advanced)\n",
    "print(len(arr_advanced))"
   ],
   "metadata": {
    "collapsed": false,
    "ExecuteTime": {
     "end_time": "2024-01-20T07:46:18.822701Z",
     "start_time": "2024-01-20T07:46:18.815132Z"
    }
   },
   "id": "e6be1a5d5e82a5ad",
   "execution_count": 35
  },
  {
   "cell_type": "markdown",
   "source": [
    "아래 내용을 브라우저 콘솔에서 돌리기"
   ],
   "metadata": {
    "collapsed": false
   },
   "id": "3f3c024b9b1f6d68"
  },
  {
   "cell_type": "markdown",
   "source": [
    "const array = \"입력할 리스트 입력\"\n",
    "array.forEach(function (item, index) {\n",
    "    document.querySelector(\"#add-member-form > div > div > input\").value = item\n",
    "    $(\"#add-member\").trigger(\"click\");\n",
    "});"
   ],
   "metadata": {
    "collapsed": false
   },
   "id": "af66590d2e3367be"
  }
 ],
 "metadata": {
  "kernelspec": {
   "display_name": "Python 3",
   "language": "python",
   "name": "python3"
  },
  "language_info": {
   "codemirror_mode": {
    "name": "ipython",
    "version": 2
   },
   "file_extension": ".py",
   "mimetype": "text/x-python",
   "name": "python",
   "nbconvert_exporter": "python",
   "pygments_lexer": "ipython2",
   "version": "2.7.6"
  }
 },
 "nbformat": 4,
 "nbformat_minor": 5
}
